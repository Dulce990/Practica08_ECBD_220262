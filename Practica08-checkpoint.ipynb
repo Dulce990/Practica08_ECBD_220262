{
 "cells": [
  {
   "cell_type": "markdown",
   "id": "ca33be2e-3e08-4225-bddd-677e434bb9f3",
   "metadata": {},
   "source": [
    "# Práctica 08: Análisis Estadístico Avanzado de Datos usando las librerias: Scipy, itertools y wordcloud\n"
   ]
  },
  {
   "cell_type": "markdown",
   "id": "11f4fee8-9906-4f57-9772-c14f2cd64dd9",
   "metadata": {},
   "source": [
    "#### Creado por: Esperanza Cruz Galindo M - 220262"
   ]
  },
  {
   "cell_type": "markdown",
   "id": "a4c9e4dc-eccd-491f-a833-69e822e2e25a",
   "metadata": {},
   "source": [
    "#### Asignatura: Extracción de Conocimiento en Base de Datos"
   ]
  },
  {
   "cell_type": "markdown",
   "id": "25d19ba1-1507-4fe9-bbb4-22c831cd7cbc",
   "metadata": {},
   "source": [
    "#### PE: Ingeniería en Desarrollo y Gestión de Software -9°B"
   ]
  },
  {
   "cell_type": "markdown",
   "id": "fa6e8d79-74af-4f10-968a-53ce4f939719",
   "metadata": {},
   "source": [
    "### Step 1 | Library & Configurations"
   ]
  },
  {
   "cell_type": "code",
   "execution_count": 2,
   "id": "023f767d-bde1-4905-9703-71c33cd31140",
   "metadata": {},
   "outputs": [
    {
     "name": "stdout",
     "output_type": "stream",
     "text": [
      "\n",
      "CPU times: total: 3.14 s\n",
      "Wall time: 3.9 s\n"
     ]
    }
   ],
   "source": [
    "%%time\n",
    "# Installing select libraries: \n",
    "from gc import collect # garbage collection to free up memory\n",
    "from warnings import filterwarnings # handle warnings messages\n",
    "import re # regular expressions\n",
    "import numpy as np # linear algebra\n",
    "import pandas as pd # data processing, csv file I/O (e.g. pd.read_csv)\n",
    "from scipy import stats #statistical functions\n",
    "\n",
    "# Igenerating combinations & cycle\n",
    "from itertools import cycle, combinations\n",
    "#data visualization\n",
    "import matplotlib.pyplot as plt\n",
    "from matplotlib.ticker import FuncFormatter #For custom formatting of ticks\n",
    "from matplotlib.ticker import FormatStrFormatter #For formatting ticks with a string\n",
    "from mpl_toolkits.mplot3d import Axes3D #Importing 3D axes module\n",
    "from matplotlib.colors import ListedColormap #Importing colormap for scatter plot\n",
    "import seaborn as sns #statistical data visualization\n",
    "from wordcloud import WordCloud # Importing WordCloud library for textual data visualization\n",
    "from io  import StringIO\n",
    "import io\n",
    "#iGNORE WARNING MESSAGES\n",
    "filterwarnings('ignore')\n",
    "from IPython.display import display, HTML, display_html, clear_output #displaying HTML content \n",
    "\n",
    "clear_output();\n",
    "print();\n",
    "collect();"
   ]
  },
  {
   "cell_type": "code",
   "execution_count": 4,
   "id": "40203d6f-8431-4cfb-9949-874e2d3e167d",
   "metadata": {},
   "outputs": [
    {
     "name": "stdout",
     "output_type": "stream",
     "text": [
      "\u001b[92mSuccesfully Configured libraries!\u001b[0m\n"
     ]
    }
   ],
   "source": [
    "# Definición de la clase 'color' con códigos ANSI para cambiar el color del texto en la consola\n",
    "class color:\n",
    "    GREEN = '\\033[92m' \n",
    "    END = '\\033[0m'     \n",
    "\n",
    "# Configuración del estilo de gráficos con matplotlib\n",
    "plt.style.use(\"fivethirtyeight\")  # Aplica el estilo visual 'fivethirtyeight' a las gráficas\n",
    "\n",
    "# Configuración del tamaño de las figuras con seaborn\n",
    "sns.set(rc={\"figure.figsize\":(10, 10)})  \n",
    "\n",
    "# Mensaje en consola indicando que las librerías se han configurado correctamente\n",
    "print(f\"{color.GREEN}Succesfully Configured libraries!{color.END}\")  "
   ]
  },
  {
   "cell_type": "markdown",
   "id": "806587a9-44a7-467c-aede-587dd1033abd",
   "metadata": {},
   "source": [
    "### Step 2 | Load Dataset"
   ]
  },
  {
   "cell_type": "code",
   "execution_count": 6,
   "id": "d8677d61-9f25-438c-9d9b-fc9af7931321",
   "metadata": {},
   "outputs": [
    {
     "name": "stdout",
     "output_type": "stream",
     "text": [
      "\u001b[92mDataset loaded successfully.\u001b[0m\n",
      "\u001b[94m\n",
      "CPU times: total: 328 ms\n",
      "Wall time: 423 ms\n"
     ]
    },
    {
     "data": {
      "text/plain": [
       "5"
      ]
     },
     "execution_count": 6,
     "metadata": {},
     "output_type": "execute_result"
    }
   ],
   "source": [
    "%%time\n",
    "# Definición de la clase 'color' para imprimir texto con distintos colores en la consola\n",
    "class color:\n",
    "    GREEN = '\\033[92m'  \n",
    "    RED = '\\033[91m'    \n",
    "    BLUE = '\\033[94m'   \n",
    "    END = '\\033[0m'     \n",
    "\n",
    "# Manejo de errores al cargar un archivo CSV con pandas\n",
    "try:\n",
    "    # Intenta leer el archivo 'salaries.csv'\n",
    "    df = pd.read_csv('salaries.csv')\n",
    "    print(f\"{color.GREEN}Dataset loaded successfully.{color.END}\")  # Mensaje de éxito en verde\n",
    "\n",
    "except FileNotFoundError:\n",
    "    # Si el archivo no se encuentra, imprime un mensaje de error específico en rojo\n",
    "    print(f\"{color.RED}Error: File not found. Please check the file path.{color.END}\")\n",
    "\n",
    "except Exception as e:\n",
    "    # Captura cualquier otro tipo de error y lo imprime en rojo\n",
    "    print(f\"{color.RED}An error occurred while loading the dataset: {e}{color.END}\")\n",
    "\n",
    "# Imprime una línea en color azul como posible separador o indicador visual\n",
    "print(color.BLUE)\n",
    "\n",
    "# Llamada a una función llamada collect (suponiendo que está definida previamente)\n",
    "collect()"
   ]
  },
  {
   "cell_type": "markdown",
   "id": "db60ebde-08b9-4d7e-9a49-38f872477b37",
   "metadata": {},
   "source": [
    "### Step 3 | Attribute Overview"
   ]
  },
  {
   "cell_type": "code",
   "execution_count": 20,
   "id": "2261e7ed-0df0-4a58-97aa-360cf7784646",
   "metadata": {},
   "outputs": [
    {
     "data": {
      "text/html": [
       "\n",
       "        <div style=\"font-family:sans-serif; margin-bottom:8px;\">\n",
       "          <span style=\"font-weight:bold; color:#FFB400; font-size:18px;\">DATAFRAME</span>\n",
       "          <span style=\"font-weight:bold; color:#333333; font-size:18px;\"> INFORMATION</span>\n",
       "        </div>\n",
       "    "
      ],
      "text/plain": [
       "<IPython.core.display.HTML object>"
      ]
     },
     "metadata": {},
     "output_type": "display_data"
    },
    {
     "data": {
      "text/html": [
       "\n",
       "        <pre style=\"\n",
       "            background:#2E2E3E; color:#FFC200; \n",
       "            padding:12px; border-radius:6px; \n",
       "            font-family:monospace; line-height:1.2;\n",
       "        \"><class&nbsp;'pandas.core.frame.DataFrame'><br>RangeIndex:&nbsp;73153&nbsp;entries,&nbsp;0&nbsp;to&nbsp;73152<br>Data&nbsp;columns&nbsp;(total&nbsp;11&nbsp;columns):<br>&nbsp;#&nbsp;&nbsp;&nbsp;Column&nbsp;&nbsp;&nbsp;&nbsp;&nbsp;&nbsp;&nbsp;&nbsp;&nbsp;&nbsp;&nbsp;&nbsp;&nbsp;&nbsp;Non-Null&nbsp;Count&nbsp;&nbsp;Dtype&nbsp;&nbsp;<br>---&nbsp;&nbsp;------&nbsp;&nbsp;&nbsp;&nbsp;&nbsp;&nbsp;&nbsp;&nbsp;&nbsp;&nbsp;&nbsp;&nbsp;&nbsp;&nbsp;--------------&nbsp;&nbsp;-----&nbsp;&nbsp;<br>&nbsp;0&nbsp;&nbsp;&nbsp;work_year&nbsp;&nbsp;&nbsp;&nbsp;&nbsp;&nbsp;&nbsp;&nbsp;&nbsp;&nbsp;&nbsp;73152&nbsp;non-null&nbsp;&nbsp;float64<br>&nbsp;1&nbsp;&nbsp;&nbsp;experience_level&nbsp;&nbsp;&nbsp;&nbsp;73152&nbsp;non-null&nbsp;&nbsp;object&nbsp;<br>&nbsp;2&nbsp;&nbsp;&nbsp;employment_type&nbsp;&nbsp;&nbsp;&nbsp;&nbsp;73153&nbsp;non-null&nbsp;&nbsp;object&nbsp;<br>&nbsp;3&nbsp;&nbsp;&nbsp;job_title&nbsp;&nbsp;&nbsp;&nbsp;&nbsp;&nbsp;&nbsp;&nbsp;&nbsp;&nbsp;&nbsp;73151&nbsp;non-null&nbsp;&nbsp;object&nbsp;<br>&nbsp;4&nbsp;&nbsp;&nbsp;salary&nbsp;&nbsp;&nbsp;&nbsp;&nbsp;&nbsp;&nbsp;&nbsp;&nbsp;&nbsp;&nbsp;&nbsp;&nbsp;&nbsp;73149&nbsp;non-null&nbsp;&nbsp;float64<br>&nbsp;5&nbsp;&nbsp;&nbsp;salary_currency&nbsp;&nbsp;&nbsp;&nbsp;&nbsp;73148&nbsp;non-null&nbsp;&nbsp;object&nbsp;<br>&nbsp;6&nbsp;&nbsp;&nbsp;salary_in_usd&nbsp;&nbsp;&nbsp;&nbsp;&nbsp;&nbsp;&nbsp;73150&nbsp;non-null&nbsp;&nbsp;float64<br>&nbsp;7&nbsp;&nbsp;&nbsp;employee_residence&nbsp;&nbsp;73148&nbsp;non-null&nbsp;&nbsp;object&nbsp;<br>&nbsp;8&nbsp;&nbsp;&nbsp;remote_ratio&nbsp;&nbsp;&nbsp;&nbsp;&nbsp;&nbsp;&nbsp;&nbsp;73149&nbsp;non-null&nbsp;&nbsp;float64<br>&nbsp;9&nbsp;&nbsp;&nbsp;company_location&nbsp;&nbsp;&nbsp;&nbsp;73148&nbsp;non-null&nbsp;&nbsp;object&nbsp;<br>&nbsp;10&nbsp;&nbsp;company_size&nbsp;&nbsp;&nbsp;&nbsp;&nbsp;&nbsp;&nbsp;&nbsp;73149&nbsp;non-null&nbsp;&nbsp;object&nbsp;<br>dtypes:&nbsp;float64(4),&nbsp;object(7)<br>memory&nbsp;usage:&nbsp;6.1+&nbsp;MB</pre>\n",
       "    "
      ],
      "text/plain": [
       "<IPython.core.display.HTML object>"
      ]
     },
     "metadata": {},
     "output_type": "display_data"
    },
    {
     "data": {
      "text/html": [
       "\n",
       "        <div style=\"font-family:sans-serif; margin-bottom:8px;\">\n",
       "          <span style=\"font-weight:bold; color:#FFB400; font-size:18px;\">DATAFRAME</span>\n",
       "          <span style=\"font-weight:bold; color:#333333; font-size:18px;\"> INFORMATION</span>\n",
       "        </div>\n",
       "    "
      ],
      "text/plain": [
       "<IPython.core.display.HTML object>"
      ]
     },
     "metadata": {},
     "output_type": "display_data"
    },
    {
     "data": {
      "text/html": [
       "\n",
       "        <pre style=\"\n",
       "            background:#2E2E3E; color:#FFC200; \n",
       "            padding:12px; border-radius:6px; \n",
       "            font-family:monospace; line-height:1.2;\n",
       "        \"><class&nbsp;'pandas.core.frame.DataFrame'><br>RangeIndex:&nbsp;73153&nbsp;entries,&nbsp;0&nbsp;to&nbsp;73152<br>Data&nbsp;columns&nbsp;(total&nbsp;11&nbsp;columns):<br>&nbsp;#&nbsp;&nbsp;&nbsp;Column&nbsp;&nbsp;&nbsp;&nbsp;&nbsp;&nbsp;&nbsp;&nbsp;&nbsp;&nbsp;&nbsp;&nbsp;&nbsp;&nbsp;Non-Null&nbsp;Count&nbsp;&nbsp;Dtype&nbsp;&nbsp;<br>---&nbsp;&nbsp;------&nbsp;&nbsp;&nbsp;&nbsp;&nbsp;&nbsp;&nbsp;&nbsp;&nbsp;&nbsp;&nbsp;&nbsp;&nbsp;&nbsp;--------------&nbsp;&nbsp;-----&nbsp;&nbsp;<br>&nbsp;0&nbsp;&nbsp;&nbsp;work_year&nbsp;&nbsp;&nbsp;&nbsp;&nbsp;&nbsp;&nbsp;&nbsp;&nbsp;&nbsp;&nbsp;73152&nbsp;non-null&nbsp;&nbsp;float64<br>&nbsp;1&nbsp;&nbsp;&nbsp;experience_level&nbsp;&nbsp;&nbsp;&nbsp;73152&nbsp;non-null&nbsp;&nbsp;object&nbsp;<br>&nbsp;2&nbsp;&nbsp;&nbsp;employment_type&nbsp;&nbsp;&nbsp;&nbsp;&nbsp;73153&nbsp;non-null&nbsp;&nbsp;object&nbsp;<br>&nbsp;3&nbsp;&nbsp;&nbsp;job_title&nbsp;&nbsp;&nbsp;&nbsp;&nbsp;&nbsp;&nbsp;&nbsp;&nbsp;&nbsp;&nbsp;73151&nbsp;non-null&nbsp;&nbsp;object&nbsp;<br>&nbsp;4&nbsp;&nbsp;&nbsp;salary&nbsp;&nbsp;&nbsp;&nbsp;&nbsp;&nbsp;&nbsp;&nbsp;&nbsp;&nbsp;&nbsp;&nbsp;&nbsp;&nbsp;73149&nbsp;non-null&nbsp;&nbsp;float64<br>&nbsp;5&nbsp;&nbsp;&nbsp;salary_currency&nbsp;&nbsp;&nbsp;&nbsp;&nbsp;73148&nbsp;non-null&nbsp;&nbsp;object&nbsp;<br>&nbsp;6&nbsp;&nbsp;&nbsp;salary_in_usd&nbsp;&nbsp;&nbsp;&nbsp;&nbsp;&nbsp;&nbsp;73150&nbsp;non-null&nbsp;&nbsp;float64<br>&nbsp;7&nbsp;&nbsp;&nbsp;employee_residence&nbsp;&nbsp;73148&nbsp;non-null&nbsp;&nbsp;object&nbsp;<br>&nbsp;8&nbsp;&nbsp;&nbsp;remote_ratio&nbsp;&nbsp;&nbsp;&nbsp;&nbsp;&nbsp;&nbsp;&nbsp;73149&nbsp;non-null&nbsp;&nbsp;float64<br>&nbsp;9&nbsp;&nbsp;&nbsp;company_location&nbsp;&nbsp;&nbsp;&nbsp;73148&nbsp;non-null&nbsp;&nbsp;object&nbsp;<br>&nbsp;10&nbsp;&nbsp;company_size&nbsp;&nbsp;&nbsp;&nbsp;&nbsp;&nbsp;&nbsp;&nbsp;73149&nbsp;non-null&nbsp;&nbsp;object&nbsp;<br>dtypes:&nbsp;float64(4),&nbsp;object(7)<br>memory&nbsp;usage:&nbsp;6.1+&nbsp;MB</pre>\n",
       "    "
      ],
      "text/plain": [
       "<IPython.core.display.HTML object>"
      ]
     },
     "metadata": {},
     "output_type": "display_data"
    },
    {
     "data": {
      "text/html": [
       "\n",
       "            <div style=\"font-family:sans-serif; margin:16px 0 8px;\">\n",
       "              <span style=\"font-weight:bold; color:#FFB400; font-size:18px;\">DATAFRAME</span>\n",
       "              <span style=\"font-weight:bold; color:#333333; font-size:18px;\"> HEAD</span>\n",
       "            </div>\n",
       "        "
      ],
      "text/plain": [
       "<IPython.core.display.HTML object>"
      ]
     },
     "metadata": {},
     "output_type": "display_data"
    },
    {
     "data": {
      "text/html": [
       "<div>\n",
       "<style scoped>\n",
       "    .dataframe tbody tr th:only-of-type {\n",
       "        vertical-align: middle;\n",
       "    }\n",
       "\n",
       "    .dataframe tbody tr th {\n",
       "        vertical-align: top;\n",
       "    }\n",
       "\n",
       "    .dataframe thead th {\n",
       "        text-align: right;\n",
       "    }\n",
       "</style>\n",
       "<table border=\"1\" class=\"dataframe\">\n",
       "  <thead>\n",
       "    <tr style=\"text-align: right;\">\n",
       "      <th></th>\n",
       "      <th>work_year</th>\n",
       "      <th>experience_level</th>\n",
       "      <th>employment_type</th>\n",
       "      <th>job_title</th>\n",
       "      <th>salary</th>\n",
       "      <th>salary_currency</th>\n",
       "      <th>salary_in_usd</th>\n",
       "      <th>employee_residence</th>\n",
       "      <th>remote_ratio</th>\n",
       "      <th>company_location</th>\n",
       "      <th>company_size</th>\n",
       "    </tr>\n",
       "  </thead>\n",
       "  <tbody>\n",
       "    <tr>\n",
       "      <th>0</th>\n",
       "      <td>2025.0</td>\n",
       "      <td>SE</td>\n",
       "      <td>FT</td>\n",
       "      <td>Data Product Owner</td>\n",
       "      <td>170000.0</td>\n",
       "      <td>USD</td>\n",
       "      <td>170000.0</td>\n",
       "      <td>US</td>\n",
       "      <td>0.0</td>\n",
       "      <td>US</td>\n",
       "      <td>M</td>\n",
       "    </tr>\n",
       "    <tr>\n",
       "      <th>1</th>\n",
       "      <td>2025.0</td>\n",
       "      <td>SE</td>\n",
       "      <td>FT</td>\n",
       "      <td>Data Product Owner</td>\n",
       "      <td>110000.0</td>\n",
       "      <td>USD</td>\n",
       "      <td>110000.0</td>\n",
       "      <td>US</td>\n",
       "      <td>0.0</td>\n",
       "      <td>US</td>\n",
       "      <td>M</td>\n",
       "    </tr>\n",
       "    <tr>\n",
       "      <th>2</th>\n",
       "      <td>2025.0</td>\n",
       "      <td>SE</td>\n",
       "      <td>FT</td>\n",
       "      <td>Data Product Owner</td>\n",
       "      <td>170000.0</td>\n",
       "      <td>USD</td>\n",
       "      <td>170000.0</td>\n",
       "      <td>US</td>\n",
       "      <td>0.0</td>\n",
       "      <td>US</td>\n",
       "      <td>M</td>\n",
       "    </tr>\n",
       "    <tr>\n",
       "      <th>3</th>\n",
       "      <td>2025.0</td>\n",
       "      <td>SE</td>\n",
       "      <td>FT</td>\n",
       "      <td>Data Product Owner</td>\n",
       "      <td>110000.0</td>\n",
       "      <td>USD</td>\n",
       "      <td>110000.0</td>\n",
       "      <td>US</td>\n",
       "      <td>0.0</td>\n",
       "      <td>US</td>\n",
       "      <td>M</td>\n",
       "    </tr>\n",
       "    <tr>\n",
       "      <th>4</th>\n",
       "      <td>2025.0</td>\n",
       "      <td>SE</td>\n",
       "      <td>FT</td>\n",
       "      <td>Engineer</td>\n",
       "      <td>143000.0</td>\n",
       "      <td>USD</td>\n",
       "      <td>143000.0</td>\n",
       "      <td>US</td>\n",
       "      <td>0.0</td>\n",
       "      <td>US</td>\n",
       "      <td>M</td>\n",
       "    </tr>\n",
       "  </tbody>\n",
       "</table>\n",
       "</div>"
      ],
      "text/plain": [
       "   work_year experience_level employment_type           job_title    salary  \\\n",
       "0     2025.0               SE              FT  Data Product Owner  170000.0   \n",
       "1     2025.0               SE              FT  Data Product Owner  110000.0   \n",
       "2     2025.0               SE              FT  Data Product Owner  170000.0   \n",
       "3     2025.0               SE              FT  Data Product Owner  110000.0   \n",
       "4     2025.0               SE              FT            Engineer  143000.0   \n",
       "\n",
       "  salary_currency  salary_in_usd employee_residence  remote_ratio  \\\n",
       "0             USD       170000.0                 US           0.0   \n",
       "1             USD       110000.0                 US           0.0   \n",
       "2             USD       170000.0                 US           0.0   \n",
       "3             USD       110000.0                 US           0.0   \n",
       "4             USD       143000.0                 US           0.0   \n",
       "\n",
       "  company_location company_size  \n",
       "0               US            M  \n",
       "1               US            M  \n",
       "2               US            M  \n",
       "3               US            M  \n",
       "4               US            M  "
      ]
     },
     "metadata": {},
     "output_type": "display_data"
    }
   ],
   "source": [
    "\n",
    "def display_dataframe_with_custom_header(df: pd.DataFrame, show_head: bool = False, n: int = 5):\n",
    "    \"\"\"\n",
    "    Muestra información del DataFrame con una cabecera HTML personalizada.\n",
    "    Opcionalmente, también muestra las primeras `n` filas del DataFrame con estilo visual.\n",
    "    \"\"\"\n",
    "    \n",
    "    # Mostrar cabecera personalizada \"DATAFRAME INFORMATION\"\n",
    "    display(HTML(\"\"\"\n",
    "        <div style=\"font-family:sans-serif; margin-bottom:8px;\">\n",
    "          <span style=\"font-weight:bold; color:#FFB400; font-size:18px;\">DATAFRAME</span>\n",
    "          <span style=\"font-weight:bold; color:#333333; font-size:18px;\"> INFORMATION</span>\n",
    "        </div>\n",
    "    \"\"\"))\n",
    "\n",
    "    # Captura de df.info() como texto\n",
    "    buf = io.StringIO()\n",
    "    df.info(buf=buf)\n",
    "    buf.seek(0)\n",
    "    lines = buf.read().splitlines()\n",
    "\n",
    "    # Reemplazo de espacios por &nbsp; para mantener la indentación en HTML\n",
    "    info_html = \"<br>\".join(line.replace(\" \", \"&nbsp;\") for line in lines)\n",
    "\n",
    "    # Mostrar el bloque de info con estilo\n",
    "    display(HTML(f\"\"\"\n",
    "        <pre style=\"\n",
    "            background:#2E2E3E; color:#FFC200; \n",
    "            padding:12px; border-radius:6px; \n",
    "            font-family:monospace; line-height:1.2;\n",
    "        \">{info_html}</pre>\n",
    "    \"\"\"))\n",
    "\n",
    "    # Mostrar head si está habilitado\n",
    "    if show_head:\n",
    "        display(HTML(\"\"\"\n",
    "            <div style=\"font-family:sans-serif; margin:16px 0 8px;\">\n",
    "              <span style=\"font-weight:bold; color:#FFB400; font-size:18px;\">DATAFRAME</span>\n",
    "              <span style=\"font-weight:bold; color:#333333; font-size:18px;\"> HEAD</span>\n",
    "            </div>\n",
    "        \"\"\"))\n",
    "        display(df.head(n))\n",
    "\n",
    "display_dataframe_with_custom_header(df)                  \n",
    "display_dataframe_with_custom_header(df, show_head=True)"
   ]
  },
  {
   "cell_type": "markdown",
   "id": "5bb2c834-38d8-44df-9537-6ed4f55dc189",
   "metadata": {},
   "source": [
    "### Step 4 | Missing Value Handling"
   ]
  },
  {
   "cell_type": "code",
   "execution_count": 9,
   "id": "209764de-bc03-4810-aeca-d604f7d4e49e",
   "metadata": {},
   "outputs": [],
   "source": [
    "import matplotlib.pyplot as plt\n",
    "import seaborn as sns\n",
    "\n",
    "def plot_missing_values_heatmap(df):\n",
    "    # Contar valores nulos por columna\n",
    "    missing_counts = df.isnull().sum()\n",
    "    missing_counts = missing_counts[missing_counts > 0]\n",
    "\n",
    "    if missing_counts.empty:\n",
    "        print(\"✅ No hay valores nulos en el DataFrame.\")\n",
    "        return\n",
    "\n",
    "    # Estilo gráfico moderno\n",
    "    sns.set(style=\"darkgrid\", context=\"talk\")\n",
    "\n",
    "    # Crear la gráfica\n",
    "    plt.figure(figsize=(10, 8))\n",
    "    bars = sns.barplot(\n",
    "        y=missing_counts.index,\n",
    "        x=missing_counts.values,\n",
    "        palette=\"coolwarm\"\n",
    "    )\n",
    "\n",
    "    # Etiquetas de cantidad al final de cada barra\n",
    "    for i, value in enumerate(missing_counts.values):\n",
    "        plt.text(value + 0.5, i, str(value), va='center', fontsize=12)\n",
    "\n",
    "    plt.title(\"🔍 Valores Nulos por Columna\", fontsize=18, weight='bold')\n",
    "    plt.xlabel(\"Cantidad de Nulos\", fontsize=14)\n",
    "    plt.ylabel(\"Columnas\", fontsize=14)\n",
    "    plt.tight_layout()\n",
    "    plt.show()\n"
   ]
  },
  {
   "cell_type": "code",
   "execution_count": 10,
   "id": "d9a11a9d-9097-4dc3-8a55-7692f8fe0240",
   "metadata": {},
   "outputs": [
    {
     "data": {
      "image/png": "[encoded data removed]",
      "text/plain": [
       "<Figure size 1000x800 with 1 Axes>"
      ]
     },
     "metadata": {},
     "output_type": "display_data"
    }
   ],
   "source": [
    "plot_missing_values_heatmap(df)"
   ]
  },
  {
   "cell_type": "markdown",
   "id": "0cb349dc-72e5-4500-a641-32587af380cf",
   "metadata": {},
   "source": [
    "### Step 5 | Duplicate Value Manage"
   ]
  },
  {
   "cell_type": "code",
   "execution_count": 13,
   "id": "07020e4a-5c2a-41a4-b2ec-be2f42eb95a1",
   "metadata": {},
   "outputs": [
    {
     "name": "stdout",
     "output_type": "stream",
     "text": [
      "\u001b[94mEl dataset contiene  \u001b[1m\u001b[91m39124\u001b[0m \u001b[94mvalores nulos\n"
     ]
    }
   ],
   "source": [
    "# Establecer los colores de letra para los mensajes\n",
    "class color:\n",
    "    GREEN = '\\033[92m'  \n",
    "    RED = '\\033[91m'    \n",
    "    BLUE = '\\033[94m'  \n",
    "    BOLD = '\\033[1m'    \n",
    "    END = '\\033[0m'     \n",
    "\n",
    "# Establecer estilo de gráficos\n",
    "plt.style.use(\"fivethirtyeight\")\n",
    "sns.set(rc={\"figure.figsize\": (10, 10)})\n",
    "# Revisando los duplicados en los datos\n",
    "duplicate_values = df.duplicated().sum()\n",
    "print(color.BLUE + f'El dataset contiene  {color.BOLD + color.RED}{duplicate_values}{color.END} {color.BLUE}valores nulos')\n",
    "\n",
    "# Quitar los valores duplicados\n",
    "df_no_duplicates = df.drop_duplicates()"
   ]
  },
  {
   "cell_type": "code",
   "execution_count": 14,
   "id": "37a5ee4d-1697-4796-abd2-7ea7d8e54a76",
   "metadata": {},
   "outputs": [
    {
     "data": {
      "text/html": [
       "<style type=\"text/css\">\n",
       "#T_90a03_row0_col0, #T_90a03_row1_col0, #T_90a03_row2_col0, #T_90a03_row3_col0, #T_90a03_row4_col0, #T_90a03_row5_col0, #T_90a03_row6_col0, #T_90a03_row7_col0, #T_90a03_row8_col0, #T_90a03_row9_col0, #T_90a03_row10_col0 {\n",
       "  color: green;\n",
       "}\n",
       "</style>\n",
       "<table id=\"T_90a03\">\n",
       "  <thead>\n",
       "    <tr>\n",
       "      <th class=\"blank level0\" >&nbsp;</th>\n",
       "      <th id=\"T_90a03_level0_col0\" class=\"col_heading level0 col0\" >0</th>\n",
       "    </tr>\n",
       "  </thead>\n",
       "  <tbody>\n",
       "    <tr>\n",
       "      <th id=\"T_90a03_level0_row0\" class=\"row_heading level0 row0\" >work_year</th>\n",
       "      <td id=\"T_90a03_row0_col0\" class=\"data row0 col0\" >False</td>\n",
       "    </tr>\n",
       "    <tr>\n",
       "      <th id=\"T_90a03_level0_row1\" class=\"row_heading level0 row1\" >experience_level</th>\n",
       "      <td id=\"T_90a03_row1_col0\" class=\"data row1 col0\" >False</td>\n",
       "    </tr>\n",
       "    <tr>\n",
       "      <th id=\"T_90a03_level0_row2\" class=\"row_heading level0 row2\" >employment_type</th>\n",
       "      <td id=\"T_90a03_row2_col0\" class=\"data row2 col0\" >False</td>\n",
       "    </tr>\n",
       "    <tr>\n",
       "      <th id=\"T_90a03_level0_row3\" class=\"row_heading level0 row3\" >job_title</th>\n",
       "      <td id=\"T_90a03_row3_col0\" class=\"data row3 col0\" >False</td>\n",
       "    </tr>\n",
       "    <tr>\n",
       "      <th id=\"T_90a03_level0_row4\" class=\"row_heading level0 row4\" >salary</th>\n",
       "      <td id=\"T_90a03_row4_col0\" class=\"data row4 col0\" >False</td>\n",
       "    </tr>\n",
       "    <tr>\n",
       "      <th id=\"T_90a03_level0_row5\" class=\"row_heading level0 row5\" >salary_currency</th>\n",
       "      <td id=\"T_90a03_row5_col0\" class=\"data row5 col0\" >False</td>\n",
       "    </tr>\n",
       "    <tr>\n",
       "      <th id=\"T_90a03_level0_row6\" class=\"row_heading level0 row6\" >salary_in_usd</th>\n",
       "      <td id=\"T_90a03_row6_col0\" class=\"data row6 col0\" >False</td>\n",
       "    </tr>\n",
       "    <tr>\n",
       "      <th id=\"T_90a03_level0_row7\" class=\"row_heading level0 row7\" >employee_residence</th>\n",
       "      <td id=\"T_90a03_row7_col0\" class=\"data row7 col0\" >False</td>\n",
       "    </tr>\n",
       "    <tr>\n",
       "      <th id=\"T_90a03_level0_row8\" class=\"row_heading level0 row8\" >remote_ratio</th>\n",
       "      <td id=\"T_90a03_row8_col0\" class=\"data row8 col0\" >False</td>\n",
       "    </tr>\n",
       "    <tr>\n",
       "      <th id=\"T_90a03_level0_row9\" class=\"row_heading level0 row9\" >company_location</th>\n",
       "      <td id=\"T_90a03_row9_col0\" class=\"data row9 col0\" >False</td>\n",
       "    </tr>\n",
       "    <tr>\n",
       "      <th id=\"T_90a03_level0_row10\" class=\"row_heading level0 row10\" >company_size</th>\n",
       "      <td id=\"T_90a03_row10_col0\" class=\"data row10 col0\" >False</td>\n",
       "    </tr>\n",
       "  </tbody>\n",
       "</table>\n"
      ],
      "text/plain": [
       "<pandas.io.formats.style.Styler at 0x1a59918f200>"
      ]
     },
     "execution_count": 14,
     "metadata": {},
     "output_type": "execute_result"
    }
   ],
   "source": [
    "# Crear diccionario: True si la columna NO tiene duplicados, False si sí tiene\n",
    "sin_duplicados = {\n",
    "    columna: df[columna].duplicated().sum() == 0\n",
    "    for columna in df.columns\n",
    "}\n",
    "\n",
    "# Convertir a DataFrame\n",
    "df_sin_duplicados = pd.DataFrame.from_dict(sin_duplicados, orient='index', columns=['0'])\n",
    "\n",
    "# Mostrar como tabla estilizada con colores (verde si True, rojo si False)\n",
    "df_sin_duplicados.style.applymap(lambda x: 'color: red' if x else 'color: green')"
   ]
  },
  {
   "cell_type": "markdown",
   "id": "8c4d724e-12d5-4d9e-8141-10e0fdc1ea23",
   "metadata": {},
   "source": [
    "### Step 6 | Statistical Data Summary"
   ]
  },
  {
   "cell_type": "code",
   "execution_count": 15,
   "id": "0617682b-b1d1-472b-b15b-213ef35732da",
   "metadata": {},
   "outputs": [],
   "source": [
    "def calculate_statistics(df, opacity=1.0, font_size='16px'):\n",
    "    # Columnas numéricas que deseas analizar\n",
    "    numeric_cols = ['work_year', 'salary', 'salary_in_usd', 'remote_ratio']\n",
    "\n",
    "    # Diccionario para almacenar estadísticas por estadística (fila)\n",
    "    stats = {\n",
    "        'mean': [],\n",
    "        'median': [],\n",
    "        'mode': [],\n",
    "        'range': [],\n",
    "        'stdev': [],\n",
    "        'variance': [],\n",
    "        'iqr': [],\n",
    "        '25%': [],\n",
    "        '50%': [],\n",
    "        '75%': [],\n",
    "        'min': [],\n",
    "        'max': [],\n",
    "        'skewness': [],\n",
    "        'kurtosis': []\n",
    "    }\n",
    "\n",
    "    for col in numeric_cols:\n",
    "        series = df[col].dropna()\n",
    "\n",
    "        stats['mean'].append(series.mean())\n",
    "        stats['median'].append(series.median())\n",
    "        stats['mode'].append(series.mode().iloc[0] if not series.mode().empty else None)\n",
    "        stats['range'].append(series.max() - series.min())\n",
    "        stats['stdev'].append(series.std())\n",
    "        stats['variance'].append(series.var())\n",
    "        stats['iqr'].append(series.quantile(0.75) - series.quantile(0.25))\n",
    "        stats['25%'].append(series.quantile(0.25))\n",
    "        stats['50%'].append(series.quantile(0.5))\n",
    "        stats['75%'].append(series.quantile(0.75))\n",
    "        stats['min'].append(series.min())\n",
    "        stats['max'].append(series.max())\n",
    "        stats['skewness'].append(series.skew())\n",
    "        stats['kurtosis'].append(series.kurt())\n",
    "\n",
    "    # Crear DataFrame con las estadísticas como filas y las columnas del dataset como columnas\n",
    "    stats_df = pd.DataFrame(stats, index=numeric_cols).T\n",
    "\n",
    "    # Estilo visual\n",
    "    styled = stats_df.style.set_table_attributes(f'style=\"opacity: {opacity}; font-size: {font_size};\"')\\\n",
    "                            .format(precision=2)\\\n",
    "                            .set_caption(\"Estadísticas descriptivas por columna\")\n",
    "\n",
    "    return styled"
   ]
  },
  {
   "cell_type": "code",
   "execution_count": 16,
   "id": "141e48b1-a401-41e9-a190-678de51b5d8f",
   "metadata": {},
   "outputs": [
    {
     "data": {
      "text/html": [
       "<style type=\"text/css\">\n",
       "</style>\n",
       "<table id=\"T_48084\" style=\"opacity: 0.9; font-size: 14px;\">\n",
       "  <caption>Estadísticas descriptivas por columna</caption>\n",
       "  <thead>\n",
       "    <tr>\n",
       "      <th class=\"blank level0\" >&nbsp;</th>\n",
       "      <th id=\"T_48084_level0_col0\" class=\"col_heading level0 col0\" >work_year</th>\n",
       "      <th id=\"T_48084_level0_col1\" class=\"col_heading level0 col1\" >salary</th>\n",
       "      <th id=\"T_48084_level0_col2\" class=\"col_heading level0 col2\" >salary_in_usd</th>\n",
       "      <th id=\"T_48084_level0_col3\" class=\"col_heading level0 col3\" >remote_ratio</th>\n",
       "    </tr>\n",
       "  </thead>\n",
       "  <tbody>\n",
       "    <tr>\n",
       "      <th id=\"T_48084_level0_row0\" class=\"row_heading level0 row0\" >mean</th>\n",
       "      <td id=\"T_48084_row0_col0\" class=\"data row0 col0\" >2023.83</td>\n",
       "      <td id=\"T_48084_row0_col1\" class=\"data row0 col1\" >162551.22</td>\n",
       "      <td id=\"T_48084_row0_col2\" class=\"data row0 col2\" >158029.45</td>\n",
       "      <td id=\"T_48084_row0_col3\" class=\"data row0 col3\" >21.58</td>\n",
       "    </tr>\n",
       "    <tr>\n",
       "      <th id=\"T_48084_level0_row1\" class=\"row_heading level0 row1\" >median</th>\n",
       "      <td id=\"T_48084_row1_col0\" class=\"data row1 col0\" >2024.00</td>\n",
       "      <td id=\"T_48084_row1_col1\" class=\"data row1 col1\" >148000.00</td>\n",
       "      <td id=\"T_48084_row1_col2\" class=\"data row1 col2\" >147500.00</td>\n",
       "      <td id=\"T_48084_row1_col3\" class=\"data row1 col3\" >0.00</td>\n",
       "    </tr>\n",
       "    <tr>\n",
       "      <th id=\"T_48084_level0_row2\" class=\"row_heading level0 row2\" >mode</th>\n",
       "      <td id=\"T_48084_row2_col0\" class=\"data row2 col0\" >2024.00</td>\n",
       "      <td id=\"T_48084_row2_col1\" class=\"data row2 col1\" >160000.00</td>\n",
       "      <td id=\"T_48084_row2_col2\" class=\"data row2 col2\" >160000.00</td>\n",
       "      <td id=\"T_48084_row2_col3\" class=\"data row2 col3\" >0.00</td>\n",
       "    </tr>\n",
       "    <tr>\n",
       "      <th id=\"T_48084_level0_row3\" class=\"row_heading level0 row3\" >range</th>\n",
       "      <td id=\"T_48084_row3_col0\" class=\"data row3 col0\" >5.00</td>\n",
       "      <td id=\"T_48084_row3_col1\" class=\"data row3 col1\" >30399445.00</td>\n",
       "      <td id=\"T_48084_row3_col2\" class=\"data row3 col2\" >785000.00</td>\n",
       "      <td id=\"T_48084_row3_col3\" class=\"data row3 col3\" >100.00</td>\n",
       "    </tr>\n",
       "    <tr>\n",
       "      <th id=\"T_48084_level0_row4\" class=\"row_heading level0 row4\" >stdev</th>\n",
       "      <td id=\"T_48084_row4_col0\" class=\"data row4 col0\" >0.48</td>\n",
       "      <td id=\"T_48084_row4_col1\" class=\"data row4 col1\" >192575.73</td>\n",
       "      <td id=\"T_48084_row4_col2\" class=\"data row4 col2\" >72563.06</td>\n",
       "      <td id=\"T_48084_row4_col3\" class=\"data row4 col3\" >41.02</td>\n",
       "    </tr>\n",
       "    <tr>\n",
       "      <th id=\"T_48084_level0_row5\" class=\"row_heading level0 row5\" >variance</th>\n",
       "      <td id=\"T_48084_row5_col0\" class=\"data row5 col0\" >0.23</td>\n",
       "      <td id=\"T_48084_row5_col1\" class=\"data row5 col1\" >37085410683.29</td>\n",
       "      <td id=\"T_48084_row5_col2\" class=\"data row5 col2\" >5265397811.62</td>\n",
       "      <td id=\"T_48084_row5_col3\" class=\"data row5 col3\" >1682.88</td>\n",
       "    </tr>\n",
       "    <tr>\n",
       "      <th id=\"T_48084_level0_row6\" class=\"row_heading level0 row6\" >iqr</th>\n",
       "      <td id=\"T_48084_row6_col0\" class=\"data row6 col0\" >0.00</td>\n",
       "      <td id=\"T_48084_row6_col1\" class=\"data row6 col1\" >93050.00</td>\n",
       "      <td id=\"T_48084_row6_col2\" class=\"data row6 col2\" >92810.00</td>\n",
       "      <td id=\"T_48084_row6_col3\" class=\"data row6 col3\" >0.00</td>\n",
       "    </tr>\n",
       "    <tr>\n",
       "      <th id=\"T_48084_level0_row7\" class=\"row_heading level0 row7\" >25%</th>\n",
       "      <td id=\"T_48084_row7_col0\" class=\"data row7 col0\" >2024.00</td>\n",
       "      <td id=\"T_48084_row7_col1\" class=\"data row7 col1\" >106950.00</td>\n",
       "      <td id=\"T_48084_row7_col2\" class=\"data row7 col2\" >106890.00</td>\n",
       "      <td id=\"T_48084_row7_col3\" class=\"data row7 col3\" >0.00</td>\n",
       "    </tr>\n",
       "    <tr>\n",
       "      <th id=\"T_48084_level0_row8\" class=\"row_heading level0 row8\" >50%</th>\n",
       "      <td id=\"T_48084_row8_col0\" class=\"data row8 col0\" >2024.00</td>\n",
       "      <td id=\"T_48084_row8_col1\" class=\"data row8 col1\" >148000.00</td>\n",
       "      <td id=\"T_48084_row8_col2\" class=\"data row8 col2\" >147500.00</td>\n",
       "      <td id=\"T_48084_row8_col3\" class=\"data row8 col3\" >0.00</td>\n",
       "    </tr>\n",
       "    <tr>\n",
       "      <th id=\"T_48084_level0_row9\" class=\"row_heading level0 row9\" >75%</th>\n",
       "      <td id=\"T_48084_row9_col0\" class=\"data row9 col0\" >2024.00</td>\n",
       "      <td id=\"T_48084_row9_col1\" class=\"data row9 col1\" >200000.00</td>\n",
       "      <td id=\"T_48084_row9_col2\" class=\"data row9 col2\" >199700.00</td>\n",
       "      <td id=\"T_48084_row9_col3\" class=\"data row9 col3\" >0.00</td>\n",
       "    </tr>\n",
       "    <tr>\n",
       "      <th id=\"T_48084_level0_row10\" class=\"row_heading level0 row10\" >min</th>\n",
       "      <td id=\"T_48084_row10_col0\" class=\"data row10 col0\" >2020.00</td>\n",
       "      <td id=\"T_48084_row10_col1\" class=\"data row10 col1\" >555.00</td>\n",
       "      <td id=\"T_48084_row10_col2\" class=\"data row10 col2\" >15000.00</td>\n",
       "      <td id=\"T_48084_row10_col3\" class=\"data row10 col3\" >0.00</td>\n",
       "    </tr>\n",
       "    <tr>\n",
       "      <th id=\"T_48084_level0_row11\" class=\"row_heading level0 row11\" >max</th>\n",
       "      <td id=\"T_48084_row11_col0\" class=\"data row11 col0\" >2025.00</td>\n",
       "      <td id=\"T_48084_row11_col1\" class=\"data row11 col1\" >30400000.00</td>\n",
       "      <td id=\"T_48084_row11_col2\" class=\"data row11 col2\" >800000.00</td>\n",
       "      <td id=\"T_48084_row11_col3\" class=\"data row11 col3\" >100.00</td>\n",
       "    </tr>\n",
       "    <tr>\n",
       "      <th id=\"T_48084_level0_row12\" class=\"row_heading level0 row12\" >skewness</th>\n",
       "      <td id=\"T_48084_row12_col0\" class=\"data row12 col0\" >-2.92</td>\n",
       "      <td id=\"T_48084_row12_col1\" class=\"data row12 col1\" >70.52</td>\n",
       "      <td id=\"T_48084_row12_col2\" class=\"data row12 col2\" >1.23</td>\n",
       "      <td id=\"T_48084_row12_col3\" class=\"data row12 col3\" >1.38</td>\n",
       "    </tr>\n",
       "    <tr>\n",
       "      <th id=\"T_48084_level0_row13\" class=\"row_heading level0 row13\" >kurtosis</th>\n",
       "      <td id=\"T_48084_row13_col0\" class=\"data row13 col0\" >11.13</td>\n",
       "      <td id=\"T_48084_row13_col1\" class=\"data row13 col1\" >9051.71</td>\n",
       "      <td id=\"T_48084_row13_col2\" class=\"data row13 col2\" >4.07</td>\n",
       "      <td id=\"T_48084_row13_col3\" class=\"data row13 col3\" >-0.08</td>\n",
       "    </tr>\n",
       "  </tbody>\n",
       "</table>\n"
      ],
      "text/plain": [
       "<pandas.io.formats.style.Styler at 0x1a59915bb90>"
      ]
     },
     "execution_count": 16,
     "metadata": {},
     "output_type": "execute_result"
    }
   ],
   "source": [
    "# Ejecutar la función\n",
    "stats_df = calculate_statistics(df, opacity=0.9, font_size='14px')\n",
    "stats_df"
   ]
  },
  {
   "cell_type": "code",
   "execution_count": 17,
   "id": "5247f102-d068-4f48-8913-480b07e87311",
   "metadata": {},
   "outputs": [
    {
     "data": {
      "text/html": [
       "<style type=\"text/css\">\n",
       "#T_d88ec th {\n",
       "  background-color: #f8f9fa;\n",
       "  color: #202124;\n",
       "  font-weight: bold;\n",
       "  border: 1px solid #e0e0e0;\n",
       "  padding: 8px 16px;\n",
       "}\n",
       "#T_d88ec td {\n",
       "  border: 1px solid #e0e0e0;\n",
       "  padding: 8px 16px;\n",
       "}\n",
       "#T_d88ec tr:hover {\n",
       "  background-color: #f1f3f4;\n",
       "}\n",
       "#T_d88ec_row0_col0, #T_d88ec_row0_col1, #T_d88ec_row0_col2, #T_d88ec_row0_col3, #T_d88ec_row0_col4, #T_d88ec_row1_col0, #T_d88ec_row1_col1, #T_d88ec_row1_col2, #T_d88ec_row1_col3, #T_d88ec_row1_col4, #T_d88ec_row2_col0, #T_d88ec_row2_col1, #T_d88ec_row2_col2, #T_d88ec_row2_col3, #T_d88ec_row2_col4, #T_d88ec_row3_col0, #T_d88ec_row3_col1, #T_d88ec_row3_col2, #T_d88ec_row3_col3, #T_d88ec_row3_col4, #T_d88ec_row4_col0, #T_d88ec_row4_col1, #T_d88ec_row4_col2, #T_d88ec_row4_col3, #T_d88ec_row4_col4, #T_d88ec_row5_col0, #T_d88ec_row5_col1, #T_d88ec_row5_col2, #T_d88ec_row5_col3, #T_d88ec_row5_col4, #T_d88ec_row6_col0, #T_d88ec_row6_col1, #T_d88ec_row6_col2, #T_d88ec_row6_col3, #T_d88ec_row6_col4, #T_d88ec_row7_col0, #T_d88ec_row7_col1, #T_d88ec_row7_col2, #T_d88ec_row7_col3, #T_d88ec_row7_col4, #T_d88ec_row8_col0, #T_d88ec_row8_col1, #T_d88ec_row8_col2, #T_d88ec_row8_col3, #T_d88ec_row8_col4, #T_d88ec_row9_col0, #T_d88ec_row9_col1, #T_d88ec_row9_col2, #T_d88ec_row9_col3, #T_d88ec_row9_col4, #T_d88ec_row10_col0, #T_d88ec_row10_col1, #T_d88ec_row10_col2, #T_d88ec_row10_col3, #T_d88ec_row10_col4 {\n",
       "  text-align: left;\n",
       "  font-size: 12px;\n",
       "  border: 1px solid #e0e0e0;\n",
       "  padding: 4px 8px;\n",
       "}\n",
       "</style>\n",
       "<table id=\"T_d88ec\">\n",
       "  <thead>\n",
       "    <tr>\n",
       "      <th id=\"T_d88ec_level0_col0\" class=\"col_heading level0 col0\" >Variable</th>\n",
       "      <th id=\"T_d88ec_level0_col1\" class=\"col_heading level0 col1\" >Dtype</th>\n",
       "      <th id=\"T_d88ec_level0_col2\" class=\"col_heading level0 col2\" >Count</th>\n",
       "      <th id=\"T_d88ec_level0_col3\" class=\"col_heading level0 col3\" >Unique</th>\n",
       "      <th id=\"T_d88ec_level0_col4\" class=\"col_heading level0 col4\" >Missing</th>\n",
       "    </tr>\n",
       "  </thead>\n",
       "  <tbody>\n",
       "    <tr>\n",
       "      <td id=\"T_d88ec_row0_col0\" class=\"data row0 col0\" >work_year</td>\n",
       "      <td id=\"T_d88ec_row0_col1\" class=\"data row0 col1\" >float64</td>\n",
       "      <td id=\"T_d88ec_row0_col2\" class=\"data row0 col2\" >73153</td>\n",
       "      <td id=\"T_d88ec_row0_col3\" class=\"data row0 col3\" >6</td>\n",
       "      <td id=\"T_d88ec_row0_col4\" class=\"data row0 col4\" >1</td>\n",
       "    </tr>\n",
       "    <tr>\n",
       "      <td id=\"T_d88ec_row1_col0\" class=\"data row1 col0\" >experience_level</td>\n",
       "      <td id=\"T_d88ec_row1_col1\" class=\"data row1 col1\" >object</td>\n",
       "      <td id=\"T_d88ec_row1_col2\" class=\"data row1 col2\" >73153</td>\n",
       "      <td id=\"T_d88ec_row1_col3\" class=\"data row1 col3\" >5</td>\n",
       "      <td id=\"T_d88ec_row1_col4\" class=\"data row1 col4\" >1</td>\n",
       "    </tr>\n",
       "    <tr>\n",
       "      <td id=\"T_d88ec_row2_col0\" class=\"data row2 col0\" >employment_type</td>\n",
       "      <td id=\"T_d88ec_row2_col1\" class=\"data row2 col1\" >object</td>\n",
       "      <td id=\"T_d88ec_row2_col2\" class=\"data row2 col2\" >73153</td>\n",
       "      <td id=\"T_d88ec_row2_col3\" class=\"data row2 col3\" >4</td>\n",
       "      <td id=\"T_d88ec_row2_col4\" class=\"data row2 col4\" >0</td>\n",
       "    </tr>\n",
       "    <tr>\n",
       "      <td id=\"T_d88ec_row3_col0\" class=\"data row3 col0\" >job_title</td>\n",
       "      <td id=\"T_d88ec_row3_col1\" class=\"data row3 col1\" >object</td>\n",
       "      <td id=\"T_d88ec_row3_col2\" class=\"data row3 col2\" >73153</td>\n",
       "      <td id=\"T_d88ec_row3_col3\" class=\"data row3 col3\" >289</td>\n",
       "      <td id=\"T_d88ec_row3_col4\" class=\"data row3 col4\" >2</td>\n",
       "    </tr>\n",
       "    <tr>\n",
       "      <td id=\"T_d88ec_row4_col0\" class=\"data row4 col0\" >salary</td>\n",
       "      <td id=\"T_d88ec_row4_col1\" class=\"data row4 col1\" >float64</td>\n",
       "      <td id=\"T_d88ec_row4_col2\" class=\"data row4 col2\" >73153</td>\n",
       "      <td id=\"T_d88ec_row4_col3\" class=\"data row4 col3\" >7095</td>\n",
       "      <td id=\"T_d88ec_row4_col4\" class=\"data row4 col4\" >4</td>\n",
       "    </tr>\n",
       "    <tr>\n",
       "      <td id=\"T_d88ec_row5_col0\" class=\"data row5 col0\" >salary_currency</td>\n",
       "      <td id=\"T_d88ec_row5_col1\" class=\"data row5 col1\" >object</td>\n",
       "      <td id=\"T_d88ec_row5_col2\" class=\"data row5 col2\" >73153</td>\n",
       "      <td id=\"T_d88ec_row5_col3\" class=\"data row5 col3\" >25</td>\n",
       "      <td id=\"T_d88ec_row5_col4\" class=\"data row5 col4\" >5</td>\n",
       "    </tr>\n",
       "    <tr>\n",
       "      <td id=\"T_d88ec_row6_col0\" class=\"data row6 col0\" >salary_in_usd</td>\n",
       "      <td id=\"T_d88ec_row6_col1\" class=\"data row6 col1\" >float64</td>\n",
       "      <td id=\"T_d88ec_row6_col2\" class=\"data row6 col2\" >73153</td>\n",
       "      <td id=\"T_d88ec_row6_col3\" class=\"data row6 col3\" >7704</td>\n",
       "      <td id=\"T_d88ec_row6_col4\" class=\"data row6 col4\" >3</td>\n",
       "    </tr>\n",
       "    <tr>\n",
       "      <td id=\"T_d88ec_row7_col0\" class=\"data row7 col0\" >employee_residence</td>\n",
       "      <td id=\"T_d88ec_row7_col1\" class=\"data row7 col1\" >object</td>\n",
       "      <td id=\"T_d88ec_row7_col2\" class=\"data row7 col2\" >73153</td>\n",
       "      <td id=\"T_d88ec_row7_col3\" class=\"data row7 col3\" >93</td>\n",
       "      <td id=\"T_d88ec_row7_col4\" class=\"data row7 col4\" >5</td>\n",
       "    </tr>\n",
       "    <tr>\n",
       "      <td id=\"T_d88ec_row8_col0\" class=\"data row8 col0\" >remote_ratio</td>\n",
       "      <td id=\"T_d88ec_row8_col1\" class=\"data row8 col1\" >float64</td>\n",
       "      <td id=\"T_d88ec_row8_col2\" class=\"data row8 col2\" >73153</td>\n",
       "      <td id=\"T_d88ec_row8_col3\" class=\"data row8 col3\" >3</td>\n",
       "      <td id=\"T_d88ec_row8_col4\" class=\"data row8 col4\" >4</td>\n",
       "    </tr>\n",
       "    <tr>\n",
       "      <td id=\"T_d88ec_row9_col0\" class=\"data row9 col0\" >company_location</td>\n",
       "      <td id=\"T_d88ec_row9_col1\" class=\"data row9 col1\" >object</td>\n",
       "      <td id=\"T_d88ec_row9_col2\" class=\"data row9 col2\" >73153</td>\n",
       "      <td id=\"T_d88ec_row9_col3\" class=\"data row9 col3\" >86</td>\n",
       "      <td id=\"T_d88ec_row9_col4\" class=\"data row9 col4\" >5</td>\n",
       "    </tr>\n",
       "    <tr>\n",
       "      <td id=\"T_d88ec_row10_col0\" class=\"data row10 col0\" >company_size</td>\n",
       "      <td id=\"T_d88ec_row10_col1\" class=\"data row10 col1\" >object</td>\n",
       "      <td id=\"T_d88ec_row10_col2\" class=\"data row10 col2\" >73153</td>\n",
       "      <td id=\"T_d88ec_row10_col3\" class=\"data row10 col3\" >3</td>\n",
       "      <td id=\"T_d88ec_row10_col4\" class=\"data row10 col4\" >4</td>\n",
       "    </tr>\n",
       "  </tbody>\n",
       "</table>\n"
      ],
      "text/plain": [
       "<pandas.io.formats.style.Styler at 0x1a5991e1d90>"
      ]
     },
     "execution_count": 17,
     "metadata": {},
     "output_type": "execute_result"
    }
   ],
   "source": [
    "def variable_summary(df):\n",
    "    # Crear el resumen de variables\n",
    "    summary = pd.DataFrame({\n",
    "        'Variable': df.columns,\n",
    "        'Dtype': df.dtypes.values,\n",
    "        'Count': [len(df)] * len(df.columns), \n",
    "        'Unique': df.nunique().values,\n",
    "        'Missing': df.isnull().sum().values\n",
    "    })\n",
    "    \n",
    "    # Aplicar el estilo similar a la imagen\n",
    "    styled = summary.style \\\n",
    "        .set_properties(**{\n",
    "            'text-align': 'left',\n",
    "            'font-size': '12px',\n",
    "            'border': '1px solid #e0e0e0',\n",
    "            'padding': '4px 8px'\n",
    "        }) \\\n",
    "        .set_table_styles([\n",
    "            {'selector': 'th', \n",
    "             'props': [\n",
    "                 ('background-color', '#f8f9fa'),\n",
    "                 ('color', '#202124'),\n",
    "                 ('font-weight', 'bold'),\n",
    "                 ('border', '1px solid #e0e0e0'),\n",
    "                 ('padding', '8px 16px')\n",
    "             ]},\n",
    "            {'selector': 'td', \n",
    "             'props': [\n",
    "                 ('border', '1px solid #e0e0e0'),\n",
    "                 ('padding', '8px 16px')\n",
    "             ]},\n",
    "            {'selector': 'tr:hover', \n",
    "             'props': [\n",
    "                 ('background-color', '#f1f3f4')\n",
    "             ]}\n",
    "        ]) \\\n",
    "        .hide(axis='index')  # Ocultar el índice\n",
    "    \n",
    "    return styled\n",
    "\n",
    "# Llamar a la función con tu DataFrame\n",
    "summary_df = variable_summary(df)\n",
    "summary_df"
   ]
  }
 ],
 "metadata": {
  "kernelspec": {
   "display_name": "Python [conda env:base] *",
   "language": "python",
   "name": "conda-base-py"
  },
  "language_info": {
   "codemirror_mode": {
    "name": "ipython",
    "version": 3
   },
   "file_extension": ".py",
   "mimetype": "text/x-python",
   "name": "python",
   "nbconvert_exporter": "python",
   "pygments_lexer": "ipython3",
   "version": "3.12.7"
  },
  "panel-cell-order": [
   "76c1b1ac-8e7c-493f-9ed7-c44993b174b8",
   "1805b69c-39e4-4705-bfe5-3ac033797c41",
   "a592b394-758a-4d80-aa8d-d4e6c9a79cf0",
   "86cb3e0f-85c8-413f-8ac4-484f60e7f7b5"
  ]
 },
 "nbformat": 4,
 "nbformat_minor": 5
}
